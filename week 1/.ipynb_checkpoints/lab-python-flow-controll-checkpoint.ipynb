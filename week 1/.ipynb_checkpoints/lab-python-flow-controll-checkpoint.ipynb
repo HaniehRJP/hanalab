{
 "cells": [
  {
   "cell_type": "markdown",
   "id": "d3bfc191-8885-42ee-b0a0-bbab867c6f9f",
   "metadata": {
    "tags": []
   },
   "source": [
    "# Lab | Flow Control"
   ]
  },
  {
   "cell_type": "markdown",
   "id": "3851fcd1-cf98-4653-9c89-e003b7ec9400",
   "metadata": {},
   "source": [
    "## Exercise: Managing Customer Orders Optimized\n",
    "\n",
    "In the last lab, you were starting an online store that sells various products. To ensure smooth operations, you developed a program that manages customer orders and inventory.\n",
    "\n",
    "You did so without using flow control. Let's go a step further and improve this code.\n",
    "\n",
    "Follow the steps below to complete the exercise:\n",
    "\n",
    "1. Look at your code from the lab data structures, and improve repeated code with loops.\n",
    "\n",
    "2. Instead of asking the user to input the name of three products that a customer wants to order, do the following:\n",
    "    \n",
    "    a. Prompt the user to enter the name of a product that a customer wants to order.\n",
    "    \n",
    "    b. Add the product name to the \"customer_orders\" set.\n",
    "    \n",
    "    c. Ask the user if they want to add another product (yes/no).\n",
    "    \n",
    "    d. Continue the loop until the user does not want to add another product.\n",
    "\n",
    "3. Instead of updating the inventory by subtracting 1 from the quantity of each product, only do it for  the products that were ordered (those in \"customer_orders\")."
   ]
  },
  {
   "cell_type": "code",
   "execution_count": 5,
   "id": "79f004f0",
   "metadata": {},
   "outputs": [
    {
     "name": "stdout",
     "output_type": "stream",
     "text": [
      "enter the quantity of:t-shirt2\n",
      "t-shirt:2\n",
      "enter the quantity of:mug2\n",
      "mug:2\n",
      "enter the quantity of:hat2\n",
      "hat:2\n",
      "enter the quantity of:book2\n",
      "book:2\n",
      "enter the quantity of:keychain2\n",
      "keychain:2\n",
      "inventory: {'t-shirt': 2, 'mug': 2, 'hat': 2, 'book': 2, 'keychain': 2}\n"
     ]
    }
   ],
   "source": [
    "products=[\"t-shirt\", \"mug\", \"hat\", \"book\", \"keychain\"]\n",
    "inventory={}\n",
    "for product in products:\n",
    "    qnt = int(input(f\"enter the quantity of:{product}\"))\n",
    "    inventory[product]=qnt\n",
    "    print(f\"{product}:{qnt}\")\n",
    "print(\"inventory:\", inventory)"
   ]
  },
  {
   "cell_type": "code",
   "execution_count": 6,
   "id": "e9ab9041",
   "metadata": {},
   "outputs": [
    {
     "name": "stdout",
     "output_type": "stream",
     "text": [
      "input the name of one product that you want to order from products list:mug\n",
      "do you want to add more item?yes\n",
      "input the name of one product that you want to order from products list:hat\n",
      "input the name of one product that you want to order from products list:book\n",
      "do you want to add more item?no\n",
      "{'book', 'mug', 'hat'}\n"
     ]
    }
   ],
   "source": [
    "customer_orders=set()\n",
    "while True:\n",
    "    order = input(\"input the name of one product that you want to order from products list:\")\n",
    "    customer_orders.add(order)\n",
    "    order_2 = input(\"do you want to add more item?\")\n",
    "    if order_2 == \"no\":\n",
    "        break\n",
    "    order = input(\"input the name of one product that you want to order from products list:\")\n",
    "    customer_orders.add(order)\n",
    "        \n",
    "print(customer_orders)"
   ]
  },
  {
   "cell_type": "code",
   "execution_count": 7,
   "id": "8d01511d",
   "metadata": {},
   "outputs": [],
   "source": [
    "customer_orders = {'mug', 'book', 'hat'}\n"
   ]
  },
  {
   "cell_type": "code",
   "execution_count": 15,
   "id": "3232785a",
   "metadata": {},
   "outputs": [
    {
     "name": "stdout",
     "output_type": "stream",
     "text": [
      "{'t-shirt': 2, 'mug': 1, 'hat': 1, 'book': 0, 'keychain': 2}\n",
      "{'t-shirt': 2, 'mug': 0, 'hat': 1, 'book': 0, 'keychain': 2}\n",
      "{'t-shirt': 2, 'mug': 0, 'hat': 0, 'book': 0, 'keychain': 2}\n"
     ]
    }
   ],
   "source": [
    "for product in customer_orders:\n",
    "    if product in inventory:\n",
    "        inventory[product] -= 1\n",
    "        print(inventory)\n",
    "    else:\n",
    "        print(\"is not\")"
   ]
  },
  {
   "cell_type": "code",
   "execution_count": null,
   "id": "36da4e67",
   "metadata": {},
   "outputs": [],
   "source": []
  }
 ],
 "metadata": {
  "kernelspec": {
   "display_name": "Python 3 (ipykernel)",
   "language": "python",
   "name": "python3"
  },
  "language_info": {
   "codemirror_mode": {
    "name": "ipython",
    "version": 3
   },
   "file_extension": ".py",
   "mimetype": "text/x-python",
   "name": "python",
   "nbconvert_exporter": "python",
   "pygments_lexer": "ipython3",
   "version": "3.11.5"
  }
 },
 "nbformat": 4,
 "nbformat_minor": 5
}
