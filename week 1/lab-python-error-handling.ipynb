{
 "cells": [
  {
   "cell_type": "markdown",
   "id": "25d7736c-ba17-4aff-b6bb-66eba20fbf4e",
   "metadata": {},
   "source": [
    "# Lab | Error Handling"
   ]
  },
  {
   "cell_type": "markdown",
   "id": "bc99b386-7508-47a0-bcdb-d969deaf6c8b",
   "metadata": {},
   "source": [
    "## Exercise: Error Handling for Managing Customer Orders\n",
    "\n",
    "The implementation of your code for managing customer orders assumes that the user will always enter a valid input. \n",
    "\n",
    "For example, we could modify the `initialize_inventory` function to include error handling.\n",
    "   - If the user enters an invalid quantity (e.g., a negative value or a non-numeric value), display an error message and ask them to re-enter the quantity for that product.\n",
    "   - Use a try-except block to handle the error and continue prompting the user until a valid quantity is entered.\n",
    "\n",
    "```python\n",
    "# Step 1: Define the function for initializing the inventory with error handling\n",
    "def initialize_inventory(products):\n",
    "    inventory = {}\n",
    "    for product in products:\n",
    "        valid_quantity = False\n",
    "        while not valid_quantity:\n",
    "            try:\n",
    "                quantity = int(input(f\"Enter the quantity of {product}s available: \"))\n",
    "                if quantity < 0:\n",
    "                    raise ValueError(\"Invalid quantity! Please enter a non-negative value.\")\n",
    "                valid_quantity = True\n",
    "            except ValueError as error:\n",
    "                print(f\"Error: {error}\")\n",
    "        inventory[product] = quantity\n",
    "    return inventory\n",
    "\n",
    "# Or, in another way:\n",
    "\n",
    "def initialize_inventory(products):\n",
    "    inventory = {}\n",
    "    for product in products:\n",
    "        valid_input = False\n",
    "        while not valid_input:\n",
    "            try:\n",
    "                quantity = int(input(f\"Enter the quantity of {product}s available: \"))\n",
    "                if quantity >= 0:\n",
    "                    inventory[product] = quantity\n",
    "                    valid_input = True\n",
    "                else:\n",
    "                    print(\"Quantity cannot be negative. Please enter a valid quantity.\")\n",
    "            except ValueError:\n",
    "                print(\"Invalid input. Please enter a valid quantity.\")\n",
    "    return inventory\n",
    "```\n",
    "\n",
    "Let's enhance your code by implementing error handling to handle invalid inputs.\n",
    "\n",
    "Follow the steps below to complete the exercise:\n",
    "\n",
    "2. Modify the `calculate_total_price` function to include error handling.\n",
    "   - If the user enters an invalid price (e.g., a negative value or a non-numeric value), display an error message and ask them to re-enter the price for that product.\n",
    "   - Use a try-except block to handle the error and continue prompting the user until a valid price is entered.\n",
    "\n",
    "3. Modify the `get_customer_orders` function to include error handling.\n",
    "   - If the user enters an invalid number of orders (e.g., a negative value or a non-numeric value), display an error message and ask them to re-enter the number of orders.\n",
    "   - If the user enters an invalid product name (e.g., a product name that is not in the inventory), or that doesn't have stock available, display an error message and ask them to re-enter the product name. *Hint: you will need to pass inventory as a parameter*\n",
    "   - Use a try-except block to handle the error and continue prompting the user until a valid product name is entered.\n",
    "\n",
    "4. Test your code by running the program and deliberately entering invalid quantities and product names. Make sure the error handling mechanism works as expected.\n"
   ]
  },
  {
   "cell_type": "code",
   "execution_count": 59,
   "id": "603d5438",
   "metadata": {},
   "outputs": [],
   "source": [
    "inventory: {'t-shirt': 6, 'mug': 7, 'hat': 3, 'book': 2, 'keychain': 1}"
   ]
  },
  {
   "cell_type": "code",
   "execution_count": 60,
   "id": "cb963f05",
   "metadata": {},
   "outputs": [],
   "source": [
    "customer_orders = {'book', 'mug'}"
   ]
  },
  {
   "cell_type": "code",
   "execution_count": 61,
   "id": "6d4faab6",
   "metadata": {},
   "outputs": [],
   "source": [
    "def total_price_customer_order(orders):\n",
    "    price = [int(input(\"enter the price of the product:\")) for product in customer_orders]\n",
    "    result = sum(price)\n",
    "    return result"
   ]
  },
  {
   "cell_type": "code",
   "execution_count": 62,
   "id": "a52b1203",
   "metadata": {},
   "outputs": [
    {
     "name": "stdout",
     "output_type": "stream",
     "text": [
      "enter the price of the product:55\n",
      "enter the price of the product:66\n"
     ]
    }
   ],
   "source": [
    "total_price = total_price_customer_order(customer_orders)"
   ]
  },
  {
   "cell_type": "code",
   "execution_count": 63,
   "id": "a93e6c07",
   "metadata": {},
   "outputs": [
    {
     "data": {
      "text/plain": [
       "121"
      ]
     },
     "execution_count": 63,
     "metadata": {},
     "output_type": "execute_result"
    }
   ],
   "source": [
    "total_price"
   ]
  },
  {
   "cell_type": "code",
   "execution_count": 64,
   "id": "e7990ba4",
   "metadata": {},
   "outputs": [],
   "source": [
    "def totaltotal_price_customer_order(orders):\n",
    "    total_price = {}\n",
    "    for product in orders:\n",
    "        valid_input = False\n",
    "        while not valid_input:\n",
    "            try:\n",
    "                price = int(input(f\"enter the price of the {product}s in customer order list:\"))\n",
    "                if price < 0:\n",
    "                    raise ValueError(\"this is not a valid price, please enter a valid price.\")\n",
    "                valid_input = True\n",
    "            except ValueError as error:\n",
    "                print(f\"Error: {error}\")\n",
    "        total_price[product] = price\n",
    "    return sum(total_price.values())"
   ]
  },
  {
   "cell_type": "code",
   "execution_count": 65,
   "id": "8faefd64",
   "metadata": {
    "scrolled": true
   },
   "outputs": [
    {
     "name": "stdout",
     "output_type": "stream",
     "text": [
      "enter the price of the mugs in customer order list:55\n",
      "enter the price of the books in customer order list:33\n"
     ]
    }
   ],
   "source": [
    "total_price = totaltotal_price_customer_order(customer_orders)"
   ]
  },
  {
   "cell_type": "code",
   "execution_count": 66,
   "id": "d2ffbd56",
   "metadata": {},
   "outputs": [
    {
     "data": {
      "text/plain": [
       "88"
      ]
     },
     "execution_count": 66,
     "metadata": {},
     "output_type": "execute_result"
    }
   ],
   "source": [
    "total_price"
   ]
  },
  {
   "cell_type": "code",
   "execution_count": 72,
   "id": "dd791f7d",
   "metadata": {},
   "outputs": [],
   "source": [
    "def get_customer_orders(inventory):\n",
    "    customer_orders={}\n",
    "    for product in inventory:\n",
    "        valid_input = False\n",
    "        while not valid_input:\n",
    "            try:\n",
    "                number = int(input(\"input the number of products that you want to order from products list: \"))\n",
    "                if number >= 0:\n",
    "                    customer_orders[product] = number\n",
    "                    valid_input = True\n",
    "                else:\n",
    "                    print(\"number of products can not be negative.\")\n",
    "            except ValueError:\n",
    "                print(\"it is not a valid number.Please enter a valid numbere.\")\n",
    "    return customer_orders\n",
    "                \n",
    "                    \n",
    "                \n",
    "    "
   ]
  },
  {
   "cell_type": "code",
   "execution_count": 73,
   "id": "2ce09718",
   "metadata": {},
   "outputs": [
    {
     "name": "stdout",
     "output_type": "stream",
     "text": [
      "input the number of products that you want to order from products list: 2\n",
      "input the number of products that you want to order from products list: -3\n",
      "number of products can not be negative.\n",
      "input the number of products that you want to order from products list: s\n",
      "it is not a valid number.Please enter a valid numbere.\n",
      "input the number of products that you want to order from products list: 4\n"
     ]
    }
   ],
   "source": [
    "get_customer_orders = get_customer_orders(customer_orders)"
   ]
  },
  {
   "cell_type": "code",
   "execution_count": 74,
   "id": "18facc23",
   "metadata": {},
   "outputs": [
    {
     "data": {
      "text/plain": [
       "{'mug': 2, 'book': 4}"
      ]
     },
     "execution_count": 74,
     "metadata": {},
     "output_type": "execute_result"
    }
   ],
   "source": [
    "get_customer_orders"
   ]
  },
  {
   "cell_type": "code",
   "execution_count": null,
   "id": "37f06e4c",
   "metadata": {},
   "outputs": [],
   "source": []
  }
 ],
 "metadata": {
  "kernelspec": {
   "display_name": "Python 3 (ipykernel)",
   "language": "python",
   "name": "python3"
  },
  "language_info": {
   "codemirror_mode": {
    "name": "ipython",
    "version": 3
   },
   "file_extension": ".py",
   "mimetype": "text/x-python",
   "name": "python",
   "nbconvert_exporter": "python",
   "pygments_lexer": "ipython3",
   "version": "3.11.5"
  }
 },
 "nbformat": 4,
 "nbformat_minor": 5
}
