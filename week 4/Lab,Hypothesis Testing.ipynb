{
 "cells": [
  {
   "cell_type": "code",
   "execution_count": 1,
   "id": "191556e2",
   "metadata": {},
   "outputs": [],
   "source": [
    "import numpy as np\n",
    "import pandas as pd\n",
    "import scipy.stats as stats\n",
    "import matplotlib.pyplot as plt\n",
    "import seaborn as sns\n",
    "\n",
    "%matplotlib inline"
   ]
  },
  {
   "cell_type": "code",
   "execution_count": 2,
   "id": "32b10f47",
   "metadata": {},
   "outputs": [],
   "source": [
    "#Set up the hypothesis test."
   ]
  },
  {
   "cell_type": "code",
   "execution_count": 3,
   "id": "67ee68ba",
   "metadata": {},
   "outputs": [
    {
     "data": {
      "text/plain": [
       "0      1.557804\n",
       "1      9.180364\n",
       "2      4.100237\n",
       "3      2.888828\n",
       "4      0.658875\n",
       "         ...   \n",
       "995    1.761109\n",
       "996    1.779752\n",
       "997    2.469872\n",
       "998    2.306851\n",
       "999    2.831018\n",
       "Length: 1000, dtype: float64"
      ]
     },
     "execution_count": 3,
     "metadata": {},
     "output_type": "execute_result"
    }
   ],
   "source": [
    "np.random.seed(42)\n",
    "\n",
    "r1 = stats.expon.rvs(size=500, loc = 0.15, scale = 3 )\n",
    "r2 = stats.norm.rvs(size=500,loc=2,scale = 0.45)\n",
    "pop = pd.Series(np.concatenate([r1,r2]))\n",
    "samp_size = 100 # > 30 -> Normal distribution.\n",
    "pop"
   ]
  },
  {
   "cell_type": "code",
   "execution_count": 4,
   "id": "c241ccbe",
   "metadata": {},
   "outputs": [],
   "source": [
    "#H0: µ = 120\n",
    "#H1: µ != 120"
   ]
  },
  {
   "cell_type": "code",
   "execution_count": 5,
   "id": "6992f2a5",
   "metadata": {},
   "outputs": [],
   "source": [
    "sample_mean = 130.1 \n",
    "pop_mean = 120\n",
    "pop_std_dev = 21.21\n",
    "samp_size = 100"
   ]
  },
  {
   "cell_type": "code",
   "execution_count": 6,
   "id": "33bb32bb",
   "metadata": {},
   "outputs": [
    {
     "data": {
      "text/plain": [
       "2.121"
      ]
     },
     "execution_count": 6,
     "metadata": {},
     "output_type": "execute_result"
    }
   ],
   "source": [
    "# Let's compute the standard error:\n",
    "sem = pop_std_dev/np.sqrt(samp_size)\n",
    "sem"
   ]
  },
  {
   "cell_type": "code",
   "execution_count": 7,
   "id": "12e53c73",
   "metadata": {},
   "outputs": [],
   "source": [
    "#z distribution \n",
    "\n"
   ]
  },
  {
   "cell_type": "code",
   "execution_count": 8,
   "id": "81bbf2ac",
   "metadata": {},
   "outputs": [
    {
     "name": "stdout",
     "output_type": "stream",
     "text": [
      "The z score of our sample is: 4.76\n"
     ]
    }
   ],
   "source": [
    "z = (sample_mean-pop_mean)/sem\n",
    "print(\"The z score of our sample is: {:.2f}\".format(z))"
   ]
  },
  {
   "cell_type": "code",
   "execution_count": 9,
   "id": "8be86b98",
   "metadata": {},
   "outputs": [],
   "source": [
    "#critical value"
   ]
  },
  {
   "cell_type": "code",
   "execution_count": 17,
   "id": "70cae3f8",
   "metadata": {},
   "outputs": [
    {
     "name": "stdout",
     "output_type": "stream",
     "text": [
      "The critical value corresponding to a 0.95 area of a normal distribution is: 1.96 and -1.96\n"
     ]
    }
   ],
   "source": [
    "zc = stats.norm.ppf(1-0.025) # 0.95 is the confidence level.\n",
    "print(\"The critical value corresponding to a 0.95 area of a normal distribution is: {:.2f} and -{:.2f}\".format(zc, zc))"
   ]
  },
  {
   "cell_type": "code",
   "execution_count": 19,
   "id": "540ff8b3",
   "metadata": {},
   "outputs": [
    {
     "name": "stdout",
     "output_type": "stream",
     "text": [
      "The critical value corresponding to a 0.95 area of a normal distribution is: 2.05 and -2.05\n"
     ]
    }
   ],
   "source": [
    "zc = stats.norm.ppf(0.98)\n",
    "print(\"The critical value corresponding to a 0.95 area of a normal distribution is: {:.2f} and -{:.2f}\".format(zc, zc))"
   ]
  },
  {
   "cell_type": "code",
   "execution_count": 21,
   "id": "f203992a",
   "metadata": {},
   "outputs": [
    {
     "name": "stdout",
     "output_type": "stream",
     "text": [
      "The critical value corresponding to a 0.95 area of a normal distribution is: 3.09 and -3.09\n"
     ]
    }
   ],
   "source": [
    "zc = stats.norm.ppf(0.999)\n",
    "print(\"The critical value corresponding to a 0.95 area of a normal distribution is: {:.2f} and -{:.2f}\".format(zc, zc))"
   ]
  },
  {
   "cell_type": "code",
   "execution_count": null,
   "id": "5057db67",
   "metadata": {},
   "outputs": [],
   "source": []
  }
 ],
 "metadata": {
  "kernelspec": {
   "display_name": "Python 3 (ipykernel)",
   "language": "python",
   "name": "python3"
  },
  "language_info": {
   "codemirror_mode": {
    "name": "ipython",
    "version": 3
   },
   "file_extension": ".py",
   "mimetype": "text/x-python",
   "name": "python",
   "nbconvert_exporter": "python",
   "pygments_lexer": "ipython3",
   "version": "3.11.5"
  }
 },
 "nbformat": 4,
 "nbformat_minor": 5
}
